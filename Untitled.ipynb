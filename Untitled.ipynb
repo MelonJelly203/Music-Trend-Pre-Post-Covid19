{
 "cells": [
  {
   "cell_type": "code",
   "execution_count": null,
   "metadata": {},
   "outputs": [],
   "source": [
    "from selenium import webdriver \n",
    "driver = webdriver.Chrome(\"/Users/jeonmyeong-un/Desktop/chromedriver\")\n",
    "\n",
    "url = \"https://www.melon.com/chart/index.htm\"\n",
    "\n",
    "driver.get(url)"
   ]
  },
  {
   "cell_type": "code",
   "execution_count": null,
   "metadata": {},
   "outputs": [],
   "source": [
    "import time\n",
    "# 차트파인더 클릭\n",
    "driver.find_element_by_xpath('//*[@id=\"gnb_menu\"]/ul[1]/li[1]/div/div/button/span').click()\n",
    "time.sleep(1)\n",
    "# 월간차트 클릭\n",
    "driver.find_element_by_xpath('//*[@id=\"d_chart_search\"]/div/h4[2]/a').click()\n",
    "time.sleep(1)\n",
    "# 연대선택 2020년 클릭\n",
    "driver.find_element_by_xpath('//*[@id=\"d_chart_search\"]/div/div/div[1]/div[1]/ul/li[1]/span/label').click()\n",
    "time.sleep(1)\n",
    "# 연도선택 2021년 클릭\n",
    "driver.find_element_by_xpath('//*[@id=\"d_chart_search\"]/div/div/div[2]/div[1]/ul/li[1]/span/label').click()\n",
    "time.sleep(1)\n",
    "# 월선택 1월 클릭\n",
    "driver.find_element_by_xpath('//*[@id=\"d_chart_search\"]/div/div/div[3]/div[1]/ul/li[1]/span/label').click()\n",
    "time.sleep(1)\n",
    "# 장르선택 종합 클릭\n",
    "driver.find_element_by_xpath('//*[@id=\"d_chart_search\"]/div/div/div[5]/div[1]/ul/li[1]/span/label').click()\n",
    "time.sleep(1)\n",
    "# 검색버튼 클릭\n",
    "driver.find_element_by_xpath('//*[@id=\"d_srch_form\"]/div[2]/button/span/span').click()"
   ]
  }
 ],
 "metadata": {
  "kernelspec": {
   "display_name": "Python 3",
   "language": "python",
   "name": "python3"
  },
  "language_info": {
   "codemirror_mode": {
    "name": "ipython",
    "version": 3
   },
   "file_extension": ".py",
   "mimetype": "text/x-python",
   "name": "python",
   "nbconvert_exporter": "python",
   "pygments_lexer": "ipython3",
   "version": "3.8.5"
  }
 },
 "nbformat": 4,
 "nbformat_minor": 4
}
